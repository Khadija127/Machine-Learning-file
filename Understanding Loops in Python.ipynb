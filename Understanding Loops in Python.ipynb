{
 "cells": [
  {
   "cell_type": "markdown",
   "id": "191ce5b2",
   "metadata": {},
   "source": [
    "## While Loop"
   ]
  },
  {
   "cell_type": "markdown",
   "id": "3bd0a9b6",
   "metadata": {},
   "source": [
    "1- Declare an initialization value first \n",
    " \n",
    "2- Write the while condition\n",
    " \n",
    "3- Set of statements to execute\n",
    " \n",
    "4- End the program with an input statement which asks the user about the continuation of the loop."
   ]
  },
  {
   "cell_type": "code",
   "execution_count": null,
   "id": "60aa5909",
   "metadata": {},
   "outputs": [
    {
     "name": "stdout",
     "output_type": "stream",
     "text": [
      "Enter marks 45\n",
      "Enter marks 45\n",
      "Enter marks 67\n",
      "Average = 52.33\n"
     ]
    }
   ],
   "source": [
    "keep_going = 'y'\n",
    "\n",
    "while keep_going == 'y':    \n",
    "    sub_1 = int(input(\"Enter marks \"))\n",
    "    sub_2 = int(input(\"Enter marks \"))\n",
    "    sub_3 = int(input(\"Enter marks \"))\n",
    "    \n",
    "    average = (sub_1 + sub_2 + sub_3)/3\n",
    "    \n",
    "    print(f'Average = {average:.2f}')\n",
    "    \n",
    "    keep_going = input(\"\"\"Do you want to calculate another average. \n",
    "                            if yes then press y  \"\"\")"
   ]
  },
  {
   "cell_type": "code",
   "execution_count": 13,
   "id": "5eb41e19",
   "metadata": {},
   "outputs": [
    {
     "name": "stdout",
     "output_type": "stream",
     "text": [
      "enter any number 56\n",
      "enter any number 45\n",
      "Sum is: 101.0\n",
      "Do you want to perform the operation again? \n",
      "                       if Yes press x x\n",
      "enter any number 56\n",
      "enter any number 4\n",
      "Sum is: 60.0\n",
      "Do you want to perform the operation again? \n",
      "                       if Yes press x y\n"
     ]
    }
   ],
   "source": [
    "keep_going = 'x'\n",
    "\n",
    "while keep_going == 'x':\n",
    "    num_1 = float(input(\"enter any number \"))\n",
    "    num_2 = float(input(\"enter any number \"))\n",
    "    \n",
    "    Sum = num_1 + num_2\n",
    "    print(f'Sum is: {Sum}')\n",
    "    \n",
    "    keep_going"
   ]
  },
  {
   "cell_type": "code",
   "execution_count": 1,
   "id": "6c5a2768",
   "metadata": {},
   "outputs": [
    {
     "name": "stdout",
     "output_type": "stream",
     "text": [
      "enter the number 6\n",
      "the product is: 60\n",
      "Product is less than 100 so the loop iterates again \n",
      "enter the number 70\n",
      "the product is: 700\n",
      "the product is greater than 100 so the loop exits here \n"
     ]
    }
   ],
   "source": [
    "\n",
    "\n",
    "\n",
    "product = 0\n",
    "\n",
    "while product < 100:\n",
    "    \n",
    "    number = int(input(\"enter the number \"))  \n",
    "    \n",
    "    product = number * 10\n",
    "    \n",
    "    print(f'the product is: {product}')\n",
    "    \n",
    "    if product < 100:\n",
    "        print(\"Product is less than 100 so the loop iterates again \")\n",
    "    else:\n",
    "        print(\"the product is greater than 100 so the loop exits here \")\n",
    "        \n",
    "\n",
    "    \n",
    "    \n",
    "\n",
    "    \n",
    "    \n",
    "    "
   ]
  },
  {
   "cell_type": "code",
   "execution_count": 5,
   "id": "c5f65b2d",
   "metadata": {},
   "outputs": [
    {
     "name": "stdout",
     "output_type": "stream",
     "text": [
      "enter the password 78\n",
      "you have entered an incorrect password. Please try again! \n",
      "enter the password 90\n",
      "you have entered an incorrect password. Please try again! \n",
      "enter the password 5656\n",
      "Welcome\n"
     ]
    }
   ],
   "source": [
    "correct = '5656'\n",
    "\n",
    "password = input(\"enter the password \")\n",
    "\n",
    "while password != correct:\n",
    "    print(\"you have entered an incorrect password. Please try again! \")\n",
    "    \n",
    "    password = input(\"enter the password \")\n",
    "\n",
    "print(\"Welcome\") \n",
    "    \n",
    "    \n",
    "    \n"
   ]
  },
  {
   "cell_type": "code",
   "execution_count": 2,
   "id": "aa9b3f4d",
   "metadata": {},
   "outputs": [
    {
     "name": "stdout",
     "output_type": "stream",
     "text": [
      "Enter the substance's Celsius temperature: 104\n",
      "The temperature is too high.\n",
      "Turn the thermostat down and wait\n",
      "5 minutes. Then take the temperature\n",
      "again and enter it.\n",
      "Enter the new Celsius temperature: 103.2\n",
      "The temperature is too high.\n",
      "Turn the thermostat down and wait\n",
      "5 minutes. Then take the temperature\n",
      "again and enter it.\n",
      "Enter the new Celsius temperature: 101\n",
      "The temperature is acceptable.\n",
      "Check it again in 15 minutes.\n"
     ]
    }
   ],
   "source": [
    " MAX_TEMP = 102.5\n",
    "\n",
    " # Get the substance's temperature.\n",
    " temperature = float(input(\"Enter the substance's Celsius temperature: \"))\n",
    "\n",
    " # As long as necessary, instruct the user to\n",
    " # adjust the thermostat.\n",
    "while temperature > MAX_TEMP:\n",
    "    print('The temperature is too high.')\n",
    "    print('Turn the thermostat down and wait')\n",
    "    print('5 minutes. Then take the temperature')\n",
    "    print('again and enter it.')\n",
    "    temperature = float(input('Enter the new Celsius temperature: '))\n",
    "\n",
    " # Remind the user to check the temperature again\n",
    " # in 15 minutes.\n",
    "print('The temperature is acceptable.')\n",
    "print('Check it again in 15 minutes.')"
   ]
  },
  {
   "cell_type": "code",
   "execution_count": null,
   "id": "0046fabf",
   "metadata": {},
   "outputs": [],
   "source": [
    "\n",
    "# Similar example with student scores\n",
    "\n",
    "more_students = \"y\"\n",
    "\n",
    "while more_students == \"y\":\n",
    "    s_name = input(\"Enter the student's name \")\n",
    "    s_score = float(input(\"Enter the student's scores\"))\n",
    "    w_score = (s_score/10) * 0.05\n",
    "    print(\"The weightage of quiz scores for \", s_name, \"is : \", format(w_score,'.2f'))\n",
    "    more_students = input(\"Press y if you want to enter more scores\")\n",
    "\n",
    "\n"
   ]
  },
  {
   "cell_type": "code",
   "execution_count": 1,
   "id": "36dad408",
   "metadata": {
    "scrolled": true
   },
   "outputs": [
    {
     "name": "stdout",
     "output_type": "stream",
     "text": [
      "1\n",
      "2\n",
      "3\n",
      "4\n",
      "5\n",
      "6\n",
      "7\n",
      "8\n",
      "9\n",
      "10\n"
     ]
    }
   ],
   "source": [
    "##Print the first 10 integers \n",
    "\n",
    "num = 1\n",
    "\n",
    "while num <= 10:\n",
    "    print(num)\n",
    "    num = num+1"
   ]
  },
  {
   "cell_type": "code",
   "execution_count": 2,
   "id": "05b3a067",
   "metadata": {},
   "outputs": [
    {
     "name": "stdout",
     "output_type": "stream",
     "text": [
      "Numbers\t\tSquares\n",
      "1 \t\t 1\n",
      "2 \t\t 4\n",
      "3 \t\t 9\n",
      "4 \t\t 16\n",
      "5 \t\t 25\n",
      "6 \t\t 36\n",
      "7 \t\t 49\n",
      "8 \t\t 64\n",
      "9 \t\t 81\n",
      "10 \t\t 100\n"
     ]
    }
   ],
   "source": [
    "## print first 10 integers with their squares \n",
    "num = 1\n",
    "print(\"Numbers\\t\\tSquares\")\n",
    "while num <= 10:\n",
    "    print(num,\"\\t\\t\",num**2)\n",
    "    num = num+1"
   ]
  },
  {
   "cell_type": "code",
   "execution_count": 2,
   "id": "b95880b0",
   "metadata": {},
   "outputs": [
    {
     "name": "stdout",
     "output_type": "stream",
     "text": [
      "Enter positive number to continue and negative number to quit 8\n",
      "Enter positive number to continue and negative number to quit 6\n",
      "Enter positive number to continue and negative number to quit 9\n",
      "Enter positive number to continue and negative number to quit -8\n",
      "total= 23\n"
     ]
    }
   ],
   "source": [
    "number = 1\n",
    "total = 0\n",
    "while number > 0:\n",
    "    number = float(input(\"Enter positive number to continue and negative number to quit \"))\n",
    "    if number > 0:\n",
    "        total =total + number\n",
    "print(f'total= {total:.0f}')\n",
    "\n",
    "\n"
   ]
  },
  {
   "cell_type": "code",
   "execution_count": 6,
   "id": "fae137e6",
   "metadata": {},
   "outputs": [
    {
     "name": "stdout",
     "output_type": "stream",
     "text": [
      "enter the amount of budget for a month 100\n",
      "enter the expense for a month 40\n",
      "total expense uptill now is 40.0\n",
      "if there is any other budget then press y y\n",
      "enter the expense for a month 40\n",
      "total expense uptill now is 80.0\n",
      "if there is any other budget then press y y\n",
      "enter the expense for a month 50\n",
      "total expense uptill now is 130.0\n",
      "if there is any other budget then press y h\n",
      "you are under budget \n"
     ]
    }
   ],
   "source": [
    "budget = float(input(\"enter the amount of budget for a month \"))\n",
    "keep_going = \"y\"\n",
    "total_expense = 0\n",
    "while keep_going == \"y\":\n",
    "    expense = float(input(\"enter the expense for a month \"))\n",
    "    \n",
    "    total_expense = total_expense + expense \n",
    "    print(f'total expense uptill now is {total_expense}')\n",
    "    \n",
    "    keep_going = input(\"if there is any other budget then press y \")\n",
    "\n",
    "if budget > total_expense:\n",
    "    print(\"You are under budget \")\n",
    "elif budget < total_expense:\n",
    "    print(\"you are over budget \")\n",
    "else:\n",
    "    print(\"your are exact on budget\")\n",
    "\n",
    "    "
   ]
  },
  {
   "cell_type": "code",
   "execution_count": null,
   "id": "51f88023",
   "metadata": {},
   "outputs": [],
   "source": []
  },
  {
   "cell_type": "code",
   "execution_count": 2,
   "id": "5eb9a046",
   "metadata": {},
   "outputs": [
    {
     "name": "stdout",
     "output_type": "stream",
     "text": [
      "enter password 7878\n",
      "incorrect password. Enter the correct password  \n",
      "enter correct password 5656\n",
      "welcome \n"
     ]
    }
   ],
   "source": [
    "correct_password ='5656'\n",
    "\n",
    "password = input(\"enter password \")\n",
    "\n",
    "while password != correct_password:\n",
    "    print(\"incorrect password. Enter the correct password  \")\n",
    "    \n",
    "    password = input(\"enter correct password \")\n",
    "    \n",
    "print(\"welcome \")\n"
   ]
  },
  {
   "cell_type": "markdown",
   "id": "d6c4dc4e",
   "metadata": {},
   "source": [
    "## FOR LOOP"
   ]
  },
  {
   "cell_type": "markdown",
   "id": "e17a5307",
   "metadata": {},
   "source": [
    "Count-controlled loop.\n",
    "\n",
    "Loop iterates a specific number of times.\n",
    "\n",
    "When the statement executes, it iterates once for each item in the sequence"
   ]
  },
  {
   "cell_type": "code",
   "execution_count": 3,
   "id": "c6dd7b5a",
   "metadata": {},
   "outputs": [
    {
     "name": "stdout",
     "output_type": "stream",
     "text": [
      "1\n",
      "2\n",
      "3\n",
      "4\n",
      "5\n"
     ]
    }
   ],
   "source": [
    "for num in [1, 2, 3, 4, 5]:\n",
    "    print(num)"
   ]
  },
  {
   "cell_type": "code",
   "execution_count": 4,
   "id": "e2d121df",
   "metadata": {},
   "outputs": [
    {
     "name": "stdout",
     "output_type": "stream",
     "text": [
      "1\n",
      "3\n",
      "5\n",
      "7\n",
      "9\n"
     ]
    }
   ],
   "source": [
    "for num in [1, 3, 5, 7, 9]:\n",
    "    print(num)"
   ]
  },
  {
   "cell_type": "code",
   "execution_count": 5,
   "id": "3a2e58e3",
   "metadata": {},
   "outputs": [
    {
     "name": "stdout",
     "output_type": "stream",
     "text": [
      "khadija\n",
      "Aisha\n",
      "Maha\n"
     ]
    }
   ],
   "source": [
    "for names in ['khadija','Aisha','Maha']:\n",
    "    print(names)"
   ]
  },
  {
   "cell_type": "code",
   "execution_count": 9,
   "id": "8ebcc81e",
   "metadata": {},
   "outputs": [
    {
     "name": "stdout",
     "output_type": "stream",
     "text": [
      "how are you? \n",
      "how are you? \n",
      "how are you? \n",
      "how are you? \n",
      "how are you? \n"
     ]
    }
   ],
   "source": [
    "for x in range(5):\n",
    "    print('how are you? ')"
   ]
  },
  {
   "cell_type": "code",
   "execution_count": 10,
   "id": "19bbadb4",
   "metadata": {},
   "outputs": [
    {
     "name": "stdout",
     "output_type": "stream",
     "text": [
      "how are you? \n",
      "how are you? \n",
      "how are you? \n",
      "how are you? \n"
     ]
    }
   ],
   "source": [
    "for x in range(1,5):\n",
    "    print('how are you? ')"
   ]
  },
  {
   "cell_type": "code",
   "execution_count": 11,
   "id": "d31d6c8f",
   "metadata": {
    "scrolled": true
   },
   "outputs": [
    {
     "name": "stdout",
     "output_type": "stream",
     "text": [
      "1\n",
      "2\n",
      "3\n",
      "4\n",
      "5\n",
      "6\n",
      "7\n",
      "8\n",
      "9\n",
      "10\n"
     ]
    }
   ],
   "source": [
    "for number in range(1, 11):\n",
    "    print(number)"
   ]
  },
  {
   "cell_type": "code",
   "execution_count": 13,
   "id": "f23b0efb",
   "metadata": {},
   "outputs": [
    {
     "name": "stdout",
     "output_type": "stream",
     "text": [
      "2\n",
      "4\n",
      "6\n",
      "8\n",
      "10\n"
     ]
    }
   ],
   "source": [
    "for number in range(2,11,2):\n",
    "    print(number)\n",
    "    "
   ]
  },
  {
   "cell_type": "code",
   "execution_count": 15,
   "id": "22fcd195",
   "metadata": {},
   "outputs": [
    {
     "name": "stdout",
     "output_type": "stream",
     "text": [
      "0.5\n",
      "1.5\n",
      "2.5\n"
     ]
    }
   ],
   "source": [
    "for number in [1,3,5]:\n",
    "    x = number/2\n",
    "    print(x)"
   ]
  },
  {
   "cell_type": "code",
   "execution_count": 13,
   "id": "d1b0f65b",
   "metadata": {},
   "outputs": [
    {
     "name": "stdout",
     "output_type": "stream",
     "text": [
      "Numbers\tSquares\n",
      "1\t1\n",
      "2\t4\n",
      "3\t9\n",
      "4\t16\n",
      "5\t25\n",
      "6\t36\n",
      "7\t49\n",
      "8\t64\n",
      "9\t81\n",
      "10\t100\n"
     ]
    }
   ],
   "source": [
    "\n",
    "for number in range(1, 11):\n",
    "    square = number**2\n",
    "    print(f'{number}\\t{square}')"
   ]
  },
  {
   "cell_type": "code",
   "execution_count": 3,
   "id": "4632b517",
   "metadata": {},
   "outputs": [
    {
     "name": "stdout",
     "output_type": "stream",
     "text": [
      "Enter number 0: 4\n",
      "Enter number 1: 5\n",
      "Enter number 2: 6\n",
      "Enter number 3: 7\n",
      "Enter number 4: 8\n",
      "Enter number 5: 4\n",
      "Enter number 6: 2\n",
      "Enter number 7: 4\n",
      "Enter number 8: 2\n",
      "Enter number 9: 56\n",
      "The total of the 10 numbers entered is: 98\n"
     ]
    }
   ],
   "source": [
    "total = 0  \n",
    "\n",
    "for x in range(10):\n",
    "    number = int(input(f\"Enter number {x}: \"))\n",
    "    total =total+number\n",
    "\n",
    "print(f\"The total of the 10 numbers entered is: {total}\")\n"
   ]
  },
  {
   "cell_type": "code",
   "execution_count": 5,
   "id": "d9da1230",
   "metadata": {},
   "outputs": [
    {
     "name": "stdout",
     "output_type": "stream",
     "text": [
      "7 * 1 = 7\n",
      "7 * 2 = 14\n",
      "7 * 3 = 21\n",
      "7 * 4 = 28\n",
      "7 * 5 = 35\n",
      "7 * 6 = 42\n",
      "7 * 7 = 49\n",
      "7 * 8 = 56\n",
      "7 * 9 = 63\n",
      "7 * 10 = 70\n"
     ]
    }
   ],
   "source": [
    "table = 7\n",
    "\n",
    "for t in range(1,11):\n",
    "    result = table * t\n",
    "    print(f'{table} * {t} = {result}')"
   ]
  },
  {
   "cell_type": "code",
   "execution_count": 6,
   "id": "8bf252c3",
   "metadata": {},
   "outputs": [
    {
     "name": "stdout",
     "output_type": "stream",
     "text": [
      "60\t37.3\n",
      "70\t43.5\n",
      "80\t49.7\n",
      "90\t55.9\n",
      "100\t62.1\n",
      "110\t68.4\n",
      "120\t74.6\n"
     ]
    }
   ],
   "source": [
    "# print(f'KPH\\tMPH')\n",
    "for speed in range(60,130,10):\n",
    "    MPH = speed * 0.6214\n",
    "    print(f'{speed}\\t{MPH:.1f}')"
   ]
  },
  {
   "cell_type": "markdown",
   "id": "3d79945d",
   "metadata": {},
   "source": [
    "## format string"
   ]
  },
  {
   "cell_type": "code",
   "execution_count": 5,
   "id": "6cfb44a0",
   "metadata": {},
   "outputs": [
    {
     "name": "stdout",
     "output_type": "stream",
     "text": [
      "my name is aisha and i am 24 years old\n",
      "3 apples cost 5 dollars\n"
     ]
    }
   ],
   "source": [
    "name = 'aisha'\n",
    "age= 24\n",
    "\n",
    "print(\"my name is {} and i am {} years old\".format(name,age))\n",
    "print(\"{quantity} apples cost {price} dollars\".format(quantity=3,price=5))"
   ]
  },
  {
   "cell_type": "code",
   "execution_count": 2,
   "id": "c300cdb5",
   "metadata": {},
   "outputs": [
    {
     "name": "stdout",
     "output_type": "stream",
     "text": [
      "enter number from 1 to 8 1\n",
      "cube of  1 is 1\n",
      "cube of  2 is 8\n",
      "cube of  3 is 27\n",
      "cube of  4 is 64\n",
      "cube of  5 is 125\n",
      "cube of  6 is 216\n",
      "cube of  7 is 343\n",
      "cube of  8 is 512\n"
     ]
    }
   ],
   "source": [
    "n = int(input(\"enter number from 1 to 8 \"))\n",
    "\n",
    "while n <= 8:\n",
    "    cube = n **3\n",
    "    print(f\"cube of  {n} is {cube}\")\n",
    "    n+=1\n",
    "    "
   ]
  },
  {
   "cell_type": "code",
   "execution_count": 6,
   "id": "68079b14",
   "metadata": {},
   "outputs": [
    {
     "name": "stdout",
     "output_type": "stream",
     "text": [
      "enter the number other than 00\n",
      "the quotient is  0\n",
      "start the loop again \n",
      "enter the number other than 070\n",
      "the quotient is  7\n",
      "start the loop again \n",
      "enter the number other than 0700\n",
      "the quotient is  70\n",
      "break\n"
     ]
    }
   ],
   "source": [
    "quotient = 0\n",
    "\n",
    "# number = int(input(\"enter the number other than 0\"))\n",
    "\n",
    "while quotient  <20:\n",
    "    number = int(input(\"enter the number\"))\n",
    "    \n",
    "    quotient = number // 10\n",
    "    \n",
    "    print(\"the quotient is \",quotient)\n",
    "    \n",
    "    if quotient < 20:\n",
    "        print(\"start the loop again \")\n",
    "    else:\n",
    "        print(\"break\")"
   ]
  },
  {
   "cell_type": "code",
   "execution_count": 1,
   "id": "83937082",
   "metadata": {},
   "outputs": [],
   "source": [
    "for number in range(10, 15,-1):\n",
    "    print(number)\n",
    "\n",
    "    \n",
    "    "
   ]
  },
  {
   "cell_type": "code",
   "execution_count": 6,
   "id": "f75dd67e",
   "metadata": {},
   "outputs": [
    {
     "name": "stdout",
     "output_type": "stream",
     "text": [
      "-20\n",
      "-19\n",
      "-18\n",
      "-17\n",
      "-16\n",
      "-15\n",
      "-14\n",
      "-13\n",
      "-12\n",
      "-11\n",
      "-10\n",
      "-9\n",
      "-8\n",
      "-7\n",
      "-6\n",
      "-5\n",
      "-4\n",
      "-3\n",
      "-2\n",
      "-1\n"
     ]
    }
   ],
   "source": [
    "for i in range(-20,0):\n",
    "    print(i)"
   ]
  },
  {
   "cell_type": "code",
   "execution_count": 2,
   "id": "24646800",
   "metadata": {},
   "outputs": [
    {
     "name": "stdout",
     "output_type": "stream",
     "text": [
      "5\n",
      "4\n",
      "3\n",
      "2\n",
      "1\n"
     ]
    }
   ],
   "source": [
    "for num in range(5, 0,-1):\n",
    "    print(num)\n",
    "    "
   ]
  },
  {
   "cell_type": "code",
   "execution_count": 9,
   "id": "fa9a42fc",
   "metadata": {},
   "outputs": [
    {
     "name": "stdout",
     "output_type": "stream",
     "text": [
      "10\n",
      "9\n",
      "8\n",
      "7\n"
     ]
    }
   ],
   "source": [
    "for i in range(10,6,-1):\n",
    "    print(i)"
   ]
  },
  {
   "cell_type": "markdown",
   "id": "97c1d866",
   "metadata": {},
   "source": [
    "Sentinels: A special value use to end the sequence of values. Should be a distinct value. \n",
    "\n",
    "Input validation loop: error occurs when user enters wrong data as an input leading to wrong reults."
   ]
  },
  {
   "cell_type": "code",
   "execution_count": 12,
   "id": "2f56329b",
   "metadata": {},
   "outputs": [
    {
     "name": "stdout",
     "output_type": "stream",
     "text": [
      "Enter number 0: 4\n",
      "Enter number 1: 5\n",
      "Enter number 2: 6\n",
      "Enter number 3: 7\n",
      "Enter number 4: 3\n",
      "Enter number 5: -10\n",
      "You have entered a negative number \n",
      "Enter number 5: 5\n",
      "Enter number 6: 4\n",
      "Enter number 7: -6\n",
      "You have entered a negative number \n",
      "Enter number 7: 5\n",
      "Enter number 8: 3\n",
      "Enter number 9: 7\n",
      "The total of the 10 numbers entered is: 49\n"
     ]
    }
   ],
   "source": [
    "total = 0  \n",
    "\n",
    "for x in range(10):\n",
    "    number = int(input(f\"Enter number {x}: \"))\n",
    "    while number < 0:\n",
    "        print(\"You have entered a negative number \")\n",
    "        number= int(input(f\"Enter number {x}: \"))\n",
    "    total =total+number\n",
    "\n",
    "print(f\"The total of the 10 numbers entered is: {total}\")\n"
   ]
  },
  {
   "cell_type": "code",
   "execution_count": null,
   "id": "508c8216",
   "metadata": {},
   "outputs": [],
   "source": []
  },
  {
   "cell_type": "code",
   "execution_count": null,
   "id": "30b9e7b8",
   "metadata": {},
   "outputs": [],
   "source": [
    "total = 0\n",
    "\n",
    "for i in range(1,11):\n",
    "    num= int(input(f'enter number {i}: '))\n",
    "    total +=num\n",
    "print(\"running total is \",total)"
   ]
  },
  {
   "cell_type": "code",
   "execution_count": null,
   "id": "31c0e432",
   "metadata": {},
   "outputs": [],
   "source": [
    "total =0\n",
    "for i in range(1,11):\n",
    "    num = int(input(f'enter number {i} '))\n",
    "    total += num\n",
    "print(total)"
   ]
  },
  {
   "cell_type": "markdown",
   "id": "10c66fc6",
   "metadata": {},
   "source": [
    "## Nested Loop: A loop that is inside another loop is called a nested loop.\n"
   ]
  },
  {
   "cell_type": "code",
   "execution_count": 1,
   "id": "744d63b1",
   "metadata": {},
   "outputs": [
    {
     "name": "stdout",
     "output_type": "stream",
     "text": [
      "for each value of x:0, y = 0\n",
      "for each value of x:0, y = 1\n",
      "for each value of x:1, y = 0\n",
      "for each value of x:1, y = 1\n",
      "for each value of x:2, y = 0\n",
      "for each value of x:2, y = 1\n",
      "for each value of x:3, y = 0\n",
      "for each value of x:3, y = 1\n"
     ]
    }
   ],
   "source": [
    "for x in range(4):\n",
    "    for y in range(2):\n",
    "        print(f'for each value of x:{x}, y = {y}')"
   ]
  },
  {
   "cell_type": "code",
   "execution_count": 5,
   "id": "e35c462b",
   "metadata": {},
   "outputs": [
    {
     "name": "stdout",
     "output_type": "stream",
     "text": [
      "Outer loop x:0. middle loop y:0,inner loop z = 0\n",
      "Outer loop x:0. middle loop y:0,inner loop z = 1\n",
      "Outer loop x:0. middle loop y:1,inner loop z = 0\n",
      "Outer loop x:0. middle loop y:1,inner loop z = 1\n",
      "Outer loop x:0. middle loop y:2,inner loop z = 0\n",
      "Outer loop x:0. middle loop y:2,inner loop z = 1\n",
      "Outer loop x:1. middle loop y:0,inner loop z = 0\n",
      "Outer loop x:1. middle loop y:0,inner loop z = 1\n",
      "Outer loop x:1. middle loop y:1,inner loop z = 0\n",
      "Outer loop x:1. middle loop y:1,inner loop z = 1\n",
      "Outer loop x:1. middle loop y:2,inner loop z = 0\n",
      "Outer loop x:1. middle loop y:2,inner loop z = 1\n",
      "Outer loop x:2. middle loop y:0,inner loop z = 0\n",
      "Outer loop x:2. middle loop y:0,inner loop z = 1\n",
      "Outer loop x:2. middle loop y:1,inner loop z = 0\n",
      "Outer loop x:2. middle loop y:1,inner loop z = 1\n",
      "Outer loop x:2. middle loop y:2,inner loop z = 0\n",
      "Outer loop x:2. middle loop y:2,inner loop z = 1\n",
      "Outer loop x:3. middle loop y:0,inner loop z = 0\n",
      "Outer loop x:3. middle loop y:0,inner loop z = 1\n",
      "Outer loop x:3. middle loop y:1,inner loop z = 0\n",
      "Outer loop x:3. middle loop y:1,inner loop z = 1\n",
      "Outer loop x:3. middle loop y:2,inner loop z = 0\n",
      "Outer loop x:3. middle loop y:2,inner loop z = 1\n"
     ]
    }
   ],
   "source": [
    "for x in range(4):\n",
    "    for y in range(3):\n",
    "        for z in range(2):\n",
    "            print(f'Outer loop x:{x}. middle loop y:{y},inner loop z = {z}')"
   ]
  },
  {
   "cell_type": "code",
   "execution_count": null,
   "id": "9426367e",
   "metadata": {},
   "outputs": [],
   "source": [
    "##### Calculate the average of test scores of each student\n",
    "\n",
    "total_students = int(input(\"enter total number of students \"))\n",
    "\n",
    "total_num_test = int(input(\"enter total number of test \"))\n",
    "\n",
    "for students in range(total_students):\n",
    "    print(\"calculating average for student no : \",students)\n",
    "    total = 0\n",
    "    for num_test in range(total_num_test):\n",
    "        print(\"enter score of test number \",num_test)\n",
    "        score = float(input(\": \"))\n",
    "        total = total +score \n",
    "    average = total/total_num_test\n",
    "    print(f'average for student no {students} is {average:.2f}')\n",
    "\n"
   ]
  },
  {
   "cell_type": "code",
   "execution_count": 2,
   "id": "b089747e",
   "metadata": {},
   "outputs": [
    {
     "name": "stdout",
     "output_type": "stream",
     "text": [
      "calulating average of student no: 1\n",
      "------------------------------------------\n",
      "score of test no: 1: 56\n",
      "score of test no: 2: 45\n",
      "score of test no: 3: 45\n",
      "average of student no  1 is 48.67\n",
      "\n",
      "calulating average of student no: 2\n",
      "------------------------------------------\n",
      "score of test no: 1: 67\n",
      "score of test no: 2: 54\n",
      "score of test no: 3: 67\n",
      "average of student no  2 is 62.67\n",
      "\n",
      "calulating average of student no: 3\n",
      "------------------------------------------\n",
      "score of test no: 1: 56\n",
      "score of test no: 2: 78\n",
      "score of test no: 3: 90\n",
      "average of student no  3 is 74.67\n",
      "\n"
     ]
    }
   ],
   "source": [
    "total_students = 3\n",
    "total_num_test = 3\n",
    "\n",
    "for students in range(total_students):\n",
    "    print(f'calulating average of student no: {students +1}')\n",
    "    print('------------------------------------------')\n",
    "    total=0\n",
    "    for num_test in range(total_num_test):\n",
    "        print(f'score of test no: {num_test+1}',end='')\n",
    "        score = float(input(\": \"))\n",
    "        total +=score\n",
    "        \n",
    "    average = total/total_num_test\n",
    "    \n",
    "    print(f'average of student no  {students +1} is {average:.2f}')\n",
    "    print()\n"
   ]
  },
  {
   "cell_type": "code",
   "execution_count": 9,
   "id": "5480ef6e",
   "metadata": {
    "scrolled": true
   },
   "outputs": [
    {
     "name": "stdout",
     "output_type": "stream",
     "text": [
      "##########\n",
      "##########\n",
      "##########\n",
      "##########\n",
      "##########\n",
      "##########\n",
      "##########\n",
      "##########\n",
      "##########\n",
      "##########\n",
      "##########\n",
      "##########\n",
      "##########\n",
      "##########\n",
      "##########\n"
     ]
    }
   ],
   "source": [
    "for i in range(15):\n",
    "    for j in range(10):\n",
    "        print(\"#\",end='')\n",
    "    print()"
   ]
  },
  {
   "cell_type": "code",
   "execution_count": 6,
   "id": "40667caa",
   "metadata": {},
   "outputs": [
    {
     "name": "stdout",
     "output_type": "stream",
     "text": [
      "***"
     ]
    }
   ],
   "source": [
    " for i in range(3):\n",
    "        print('*',end='')\n",
    "        "
   ]
  },
  {
   "cell_type": "code",
   "execution_count": 2,
   "id": "f4eea426",
   "metadata": {},
   "outputs": [
    {
     "name": "stdout",
     "output_type": "stream",
     "text": [
      "***\n",
      "***\n",
      "***\n"
     ]
    }
   ],
   "source": [
    " for i in range(3):\n",
    "        for j in range(3):\n",
    "            print('*',end='')\n",
    "        print()\n",
    "    "
   ]
  },
  {
   "cell_type": "code",
   "execution_count": 21,
   "id": "1ad8031d",
   "metadata": {},
   "outputs": [
    {
     "name": "stdout",
     "output_type": "stream",
     "text": [
      "1 2 3 "
     ]
    }
   ],
   "source": [
    "num =1\n",
    "for x in range(3):\n",
    "    print(num, end=' ')\n",
    "    num+=1"
   ]
  },
  {
   "cell_type": "code",
   "execution_count": 22,
   "id": "2eeb8d1f",
   "metadata": {},
   "outputs": [
    {
     "name": "stdout",
     "output_type": "stream",
     "text": [
      "1 2 3 \n",
      "4 5 6 \n",
      "7 8 9 \n"
     ]
    }
   ],
   "source": [
    "number =1\n",
    "for x in range(3):\n",
    "    for y in range(3):\n",
    "        print(number, end=' ')\n",
    "        number+=1\n",
    "    print()\n"
   ]
  },
  {
   "cell_type": "code",
   "execution_count": null,
   "id": "4eb34a00",
   "metadata": {},
   "outputs": [],
   "source": []
  },
  {
   "cell_type": "code",
   "execution_count": null,
   "id": "44191fe3",
   "metadata": {},
   "outputs": [],
   "source": []
  },
  {
   "cell_type": "code",
   "execution_count": null,
   "id": "30f81f8d",
   "metadata": {},
   "outputs": [],
   "source": []
  },
  {
   "cell_type": "code",
   "execution_count": null,
   "id": "e682f336",
   "metadata": {},
   "outputs": [],
   "source": []
  },
  {
   "cell_type": "code",
   "execution_count": 3,
   "id": "7137b78d",
   "metadata": {},
   "outputs": [
    {
     "name": "stdout",
     "output_type": "stream",
     "text": [
      "*\t#\n"
     ]
    }
   ],
   "source": [
    "print(\"*\",end='\\t')\n",
    "print(\"#\")\n"
   ]
  },
  {
   "cell_type": "code",
   "execution_count": 27,
   "id": "ec0124f4",
   "metadata": {},
   "outputs": [
    {
     "name": "stdout",
     "output_type": "stream",
     "text": [
      "***\n",
      "***\n",
      "***\n"
     ]
    }
   ],
   "source": [
    "for i in range(3):\n",
    "    for j in range(3):\n",
    "        print(\"*\",end='')\n",
    "    print()    "
   ]
  },
  {
   "cell_type": "code",
   "execution_count": 22,
   "id": "46631747",
   "metadata": {},
   "outputs": [
    {
     "name": "stdout",
     "output_type": "stream",
     "text": [
      "1 2 3 \n",
      "4 5 6 \n",
      "7 8 9 \n"
     ]
    }
   ],
   "source": [
    "num = 1\n",
    "for i in range(3):\n",
    "    for j in range(3):\n",
    "        print(num,end=' ')\n",
    "        num+=1\n",
    "    print()\n"
   ]
  },
  {
   "cell_type": "code",
   "execution_count": null,
   "id": "f7d4a679",
   "metadata": {},
   "outputs": [],
   "source": []
  },
  {
   "cell_type": "code",
   "execution_count": null,
   "id": "934d9813",
   "metadata": {},
   "outputs": [
    {
     "name": "stdout",
     "output_type": "stream",
     "text": [
      "calculating avg of student no: 1\n",
      "score of test no 1 :45\n",
      "score of test no 2 :76\n",
      "score of test no 3 :65\n",
      "average student is 62.00\n",
      "\n",
      "calculating avg of student no: 2\n",
      "score of test no 1 "
     ]
    }
   ],
   "source": [
    "\n",
    "for students in range(3):\n",
    "    print(f'calculating avg of student no: {students+1}')\n",
    "    total = 0\n",
    "    \n",
    "    for num_test in range(3):\n",
    "        print(f'score of test no {num_test+1}',end=' ')\n",
    "        score= float(input(':'))\n",
    "        \n",
    "        total +=score \n",
    "    average = total/3\n",
    "    print(f'average student is {average:.2f}')\n",
    "    print()\n",
    "    \n"
   ]
  },
  {
   "cell_type": "code",
   "execution_count": 3,
   "id": "bd4139fa",
   "metadata": {},
   "outputs": [
    {
     "name": "stdout",
     "output_type": "stream",
     "text": [
      "Enter a 4-digit password: fgtr\n",
      "Error: Password must be a 4-digit number.\n",
      "Enter a 4-digit password: 5643\n",
      "Password accepted.\n"
     ]
    }
   ],
   "source": [
    "# Initialize a variable to store the password\n",
    "password = \"\"\n",
    "\n",
    "# Use a while loop for input validation\n",
    "while True:\n",
    "    # Ask the user to enter a password\n",
    "    password = input(\"Enter a 4-digit password: \")\n",
    "    \n",
    "    # Check if the password is exactly 4 digits long and consists of only digits\n",
    "    if len(password) == 4 and password.isdigit():\n",
    "        print(\"Password accepted.\")\n",
    "        break\n",
    "    else:\n",
    "        print(\"Error: Password must be a 4-digit number.\")\n"
   ]
  },
  {
   "cell_type": "code",
   "execution_count": null,
   "id": "172a98a6",
   "metadata": {},
   "outputs": [],
   "source": []
  }
 ],
 "metadata": {
  "kernelspec": {
   "display_name": "Python 3",
   "language": "python",
   "name": "python3"
  },
  "language_info": {
   "codemirror_mode": {
    "name": "ipython",
    "version": 3
   },
   "file_extension": ".py",
   "mimetype": "text/x-python",
   "name": "python",
   "nbconvert_exporter": "python",
   "pygments_lexer": "ipython3",
   "version": "3.8.8"
  }
 },
 "nbformat": 4,
 "nbformat_minor": 5
}
